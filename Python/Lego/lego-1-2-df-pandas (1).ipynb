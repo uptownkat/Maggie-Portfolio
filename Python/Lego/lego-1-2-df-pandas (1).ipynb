{
 "cells": [
  {
   "cell_type": "code",
   "execution_count": 1,
   "id": "7db2a814",
   "metadata": {
    "execution": {
     "iopub.execute_input": "2025-02-10T03:23:17.714685Z",
     "iopub.status.busy": "2025-02-10T03:23:17.714312Z",
     "iopub.status.idle": "2025-02-10T03:23:18.697256Z",
     "shell.execute_reply": "2025-02-10T03:23:18.696132Z"
    },
    "papermill": {
     "duration": 0.991039,
     "end_time": "2025-02-10T03:23:18.699261",
     "exception": false,
     "start_time": "2025-02-10T03:23:17.708222",
     "status": "completed"
    },
    "tags": []
   },
   "outputs": [],
   "source": [
    "import pandas as pd"
   ]
  },
  {
   "cell_type": "code",
   "execution_count": 2,
   "id": "95b5ab7c",
   "metadata": {
    "execution": {
     "iopub.execute_input": "2025-02-10T03:23:18.709644Z",
     "iopub.status.busy": "2025-02-10T03:23:18.709120Z",
     "iopub.status.idle": "2025-02-10T03:23:18.960196Z",
     "shell.execute_reply": "2025-02-10T03:23:18.959108Z"
    },
    "papermill": {
     "duration": 0.258072,
     "end_time": "2025-02-10T03:23:18.962007",
     "exception": false,
     "start_time": "2025-02-10T03:23:18.703935",
     "status": "completed"
    },
    "tags": []
   },
   "outputs": [],
   "source": [
    "#import dataset\n",
    "\n",
    "df = pd.read_csv(\"/kaggle/input/lego-dataset/lego_sets.csv\")"
   ]
  },
  {
   "cell_type": "code",
   "execution_count": 3,
   "id": "95d55ced",
   "metadata": {
    "execution": {
     "iopub.execute_input": "2025-02-10T03:23:18.972134Z",
     "iopub.status.busy": "2025-02-10T03:23:18.971727Z",
     "iopub.status.idle": "2025-02-10T03:23:19.013290Z",
     "shell.execute_reply": "2025-02-10T03:23:19.011946Z"
    },
    "papermill": {
     "duration": 0.048613,
     "end_time": "2025-02-10T03:23:19.015175",
     "exception": false,
     "start_time": "2025-02-10T03:23:18.966562",
     "status": "completed"
    },
    "tags": []
   },
   "outputs": [
    {
     "name": "stdout",
     "output_type": "stream",
     "text": [
      "<class 'pandas.core.frame.DataFrame'>\n",
      "RangeIndex: 18457 entries, 0 to 18456\n",
      "Data columns (total 14 columns):\n",
      " #   Column          Non-Null Count  Dtype  \n",
      "---  ------          --------------  -----  \n",
      " 0   set_id          18457 non-null  object \n",
      " 1   name            18457 non-null  object \n",
      " 2   year            18457 non-null  int64  \n",
      " 3   theme           18457 non-null  object \n",
      " 4   subtheme        14901 non-null  object \n",
      " 5   themeGroup      18455 non-null  object \n",
      " 6   category        18457 non-null  object \n",
      " 7   pieces          14533 non-null  float64\n",
      " 8   minifigs        8399 non-null   float64\n",
      " 9   agerange_min    6787 non-null   float64\n",
      " 10  US_retailPrice  6982 non-null   float64\n",
      " 11  bricksetURL     18457 non-null  object \n",
      " 12  thumbnailURL    17451 non-null  object \n",
      " 13  imageURL        17451 non-null  object \n",
      "dtypes: float64(4), int64(1), object(9)\n",
      "memory usage: 2.0+ MB\n"
     ]
    }
   ],
   "source": [
    "# Summary dataset\n",
    "\n",
    "df.info()"
   ]
  },
  {
   "cell_type": "code",
   "execution_count": 4,
   "id": "9c2b7973",
   "metadata": {
    "execution": {
     "iopub.execute_input": "2025-02-10T03:23:19.025127Z",
     "iopub.status.busy": "2025-02-10T03:23:19.024722Z",
     "iopub.status.idle": "2025-02-10T03:23:19.041935Z",
     "shell.execute_reply": "2025-02-10T03:23:19.041066Z"
    },
    "papermill": {
     "duration": 0.024175,
     "end_time": "2025-02-10T03:23:19.043794",
     "exception": false,
     "start_time": "2025-02-10T03:23:19.019619",
     "status": "completed"
    },
    "tags": []
   },
   "outputs": [],
   "source": [
    "# Delete columns 8, 11, 12\n",
    "\n",
    "df = df.drop('bricksetURL', axis=1)\n",
    "df = df.drop('minifigs',axis=1)\n",
    "df = df.drop('thumbnailURL', axis=1)"
   ]
  },
  {
   "cell_type": "code",
   "execution_count": 5,
   "id": "6b15380c",
   "metadata": {
    "execution": {
     "iopub.execute_input": "2025-02-10T03:23:19.054012Z",
     "iopub.status.busy": "2025-02-10T03:23:19.053632Z",
     "iopub.status.idle": "2025-02-10T03:23:19.069304Z",
     "shell.execute_reply": "2025-02-10T03:23:19.068302Z"
    },
    "papermill": {
     "duration": 0.02288,
     "end_time": "2025-02-10T03:23:19.071249",
     "exception": false,
     "start_time": "2025-02-10T03:23:19.048369",
     "status": "completed"
    },
    "tags": []
   },
   "outputs": [
    {
     "data": {
      "text/plain": [
       "set_id                0\n",
       "name                  0\n",
       "year                  0\n",
       "theme                 0\n",
       "subtheme           3556\n",
       "themeGroup            2\n",
       "category              0\n",
       "pieces             3924\n",
       "agerange_min      11670\n",
       "US_retailPrice    11475\n",
       "imageURL           1006\n",
       "dtype: int64"
      ]
     },
     "execution_count": 5,
     "metadata": {},
     "output_type": "execute_result"
    }
   ],
   "source": [
    "# Summarize null values\n",
    "\n",
    "df.isnull().sum()"
   ]
  },
  {
   "cell_type": "code",
   "execution_count": 6,
   "id": "34e59ba8",
   "metadata": {
    "execution": {
     "iopub.execute_input": "2025-02-10T03:23:19.081685Z",
     "iopub.status.busy": "2025-02-10T03:23:19.081344Z",
     "iopub.status.idle": "2025-02-10T03:23:19.087429Z",
     "shell.execute_reply": "2025-02-10T03:23:19.086254Z"
    },
    "papermill": {
     "duration": 0.012975,
     "end_time": "2025-02-10T03:23:19.088925",
     "exception": false,
     "start_time": "2025-02-10T03:23:19.075950",
     "status": "completed"
    },
    "tags": []
   },
   "outputs": [
    {
     "name": "stdout",
     "output_type": "stream",
     "text": [
      "set_id             object\n",
      "name               object\n",
      "year                int64\n",
      "theme              object\n",
      "subtheme           object\n",
      "themeGroup         object\n",
      "category           object\n",
      "pieces            float64\n",
      "agerange_min      float64\n",
      "US_retailPrice    float64\n",
      "imageURL           object\n",
      "dtype: object\n"
     ]
    }
   ],
   "source": [
    "#check out datatype\n",
    "\n",
    "print(df.dtypes) "
   ]
  },
  {
   "cell_type": "code",
   "execution_count": 7,
   "id": "8c65fcec",
   "metadata": {
    "execution": {
     "iopub.execute_input": "2025-02-10T03:23:19.099507Z",
     "iopub.status.busy": "2025-02-10T03:23:19.099141Z",
     "iopub.status.idle": "2025-02-10T03:23:19.114179Z",
     "shell.execute_reply": "2025-02-10T03:23:19.112823Z"
    },
    "papermill": {
     "duration": 0.022488,
     "end_time": "2025-02-10T03:23:19.116088",
     "exception": false,
     "start_time": "2025-02-10T03:23:19.093600",
     "status": "completed"
    },
    "tags": []
   },
   "outputs": [
    {
     "name": "stdout",
     "output_type": "stream",
     "text": [
      "set_id             object\n",
      "name               object\n",
      "year                int64\n",
      "theme              object\n",
      "subtheme           object\n",
      "themeGroup         object\n",
      "category           object\n",
      "pieces            float64\n",
      "agerange_min      float64\n",
      "US_retailPrice    float64\n",
      "imageURL           object\n",
      "dtype: object set_id                0\n",
      "name                  0\n",
      "year                  0\n",
      "theme                 0\n",
      "subtheme           3556\n",
      "themeGroup            2\n",
      "category              0\n",
      "pieces             3924\n",
      "agerange_min      11670\n",
      "US_retailPrice    11475\n",
      "imageURL           1006\n",
      "dtype: int64\n"
     ]
    }
   ],
   "source": [
    "#summarize datatypes and number of null values together\n",
    "\n",
    "print(df.dtypes, df.isnull().sum())"
   ]
  },
  {
   "cell_type": "code",
   "execution_count": 8,
   "id": "e99a4f47",
   "metadata": {
    "execution": {
     "iopub.execute_input": "2025-02-10T03:23:19.127413Z",
     "iopub.status.busy": "2025-02-10T03:23:19.126943Z",
     "iopub.status.idle": "2025-02-10T03:23:19.147299Z",
     "shell.execute_reply": "2025-02-10T03:23:19.145910Z"
    },
    "papermill": {
     "duration": 0.028062,
     "end_time": "2025-02-10T03:23:19.149097",
     "exception": false,
     "start_time": "2025-02-10T03:23:19.121035",
     "status": "completed"
    },
    "tags": []
   },
   "outputs": [
    {
     "name": "stdout",
     "output_type": "stream",
     "text": [
      "               Data Type  Null Values\n",
      "set_id            object            0\n",
      "name              object            0\n",
      "year               int64            0\n",
      "theme             object            0\n",
      "subtheme          object         3556\n",
      "themeGroup        object            2\n",
      "category          object            0\n",
      "pieces           float64         3924\n",
      "agerange_min     float64        11670\n",
      "US_retailPrice   float64        11475\n",
      "imageURL          object         1006\n"
     ]
    }
   ],
   "source": [
    "#view side by side\n",
    "\n",
    "print(pd.concat([df.dtypes, df.isnull().sum()], axis=1, keys=['Data Type', 'Null Values']))\n"
   ]
  },
  {
   "cell_type": "code",
   "execution_count": 9,
   "id": "0647001a",
   "metadata": {
    "execution": {
     "iopub.execute_input": "2025-02-10T03:23:19.159839Z",
     "iopub.status.busy": "2025-02-10T03:23:19.159507Z",
     "iopub.status.idle": "2025-02-10T03:23:19.171257Z",
     "shell.execute_reply": "2025-02-10T03:23:19.170270Z"
    },
    "papermill": {
     "duration": 0.019217,
     "end_time": "2025-02-10T03:23:19.173148",
     "exception": false,
     "start_time": "2025-02-10T03:23:19.153931",
     "status": "completed"
    },
    "tags": []
   },
   "outputs": [],
   "source": [
    "#replace null values in subtheme, themeGroup with \"na\"\n",
    "\n",
    "df['subtheme'] = df['subtheme'].fillna('na')\n",
    "df['themeGroup'] = df['subtheme'].fillna('na')\n",
    "df['imageURL'] = df['imageURL'].fillna('na')\n",
    "\n",
    " \n"
   ]
  },
  {
   "cell_type": "code",
   "execution_count": 10,
   "id": "0890d0f0",
   "metadata": {
    "execution": {
     "iopub.execute_input": "2025-02-10T03:23:19.183821Z",
     "iopub.status.busy": "2025-02-10T03:23:19.183494Z",
     "iopub.status.idle": "2025-02-10T03:23:19.191292Z",
     "shell.execute_reply": "2025-02-10T03:23:19.190087Z"
    },
    "papermill": {
     "duration": 0.015266,
     "end_time": "2025-02-10T03:23:19.193180",
     "exception": false,
     "start_time": "2025-02-10T03:23:19.177914",
     "status": "completed"
    },
    "tags": []
   },
   "outputs": [],
   "source": [
    "#Select float/int columns\n",
    "\n",
    "float_cols = df.select_dtypes(include='float').columns  \n",
    "\n",
    "# Replace nulls in numeric columns with 0\n",
    "\n",
    "df[float_cols] = df[float_cols].fillna(0)  "
   ]
  },
  {
   "cell_type": "code",
   "execution_count": 11,
   "id": "2adb4161",
   "metadata": {
    "execution": {
     "iopub.execute_input": "2025-02-10T03:23:19.204111Z",
     "iopub.status.busy": "2025-02-10T03:23:19.203711Z",
     "iopub.status.idle": "2025-02-10T03:23:19.221729Z",
     "shell.execute_reply": "2025-02-10T03:23:19.220411Z"
    },
    "papermill": {
     "duration": 0.025522,
     "end_time": "2025-02-10T03:23:19.223622",
     "exception": false,
     "start_time": "2025-02-10T03:23:19.198100",
     "status": "completed"
    },
    "tags": []
   },
   "outputs": [
    {
     "name": "stdout",
     "output_type": "stream",
     "text": [
      "<class 'pandas.core.frame.DataFrame'>\n",
      "RangeIndex: 18457 entries, 0 to 18456\n",
      "Data columns (total 11 columns):\n",
      " #   Column          Non-Null Count  Dtype  \n",
      "---  ------          --------------  -----  \n",
      " 0   set_id          18457 non-null  object \n",
      " 1   name            18457 non-null  object \n",
      " 2   year            18457 non-null  int64  \n",
      " 3   theme           18457 non-null  object \n",
      " 4   subtheme        18457 non-null  object \n",
      " 5   themeGroup      18457 non-null  object \n",
      " 6   category        18457 non-null  object \n",
      " 7   pieces          18457 non-null  float64\n",
      " 8   agerange_min    18457 non-null  float64\n",
      " 9   US_retailPrice  18457 non-null  float64\n",
      " 10  imageURL        18457 non-null  object \n",
      "dtypes: float64(3), int64(1), object(7)\n",
      "memory usage: 1.5+ MB\n"
     ]
    }
   ],
   "source": [
    "df.info()"
   ]
  },
  {
   "cell_type": "code",
   "execution_count": 12,
   "id": "916b1750",
   "metadata": {
    "execution": {
     "iopub.execute_input": "2025-02-10T03:23:19.234542Z",
     "iopub.status.busy": "2025-02-10T03:23:19.234198Z",
     "iopub.status.idle": "2025-02-10T03:23:19.240778Z",
     "shell.execute_reply": "2025-02-10T03:23:19.239806Z"
    },
    "papermill": {
     "duration": 0.014078,
     "end_time": "2025-02-10T03:23:19.242601",
     "exception": false,
     "start_time": "2025-02-10T03:23:19.228523",
     "status": "completed"
    },
    "tags": []
   },
   "outputs": [],
   "source": [
    "#change datatype of float to int\n",
    "\n",
    "df[float_cols] = df[float_cols].astype(int)"
   ]
  },
  {
   "cell_type": "code",
   "execution_count": 13,
   "id": "2549670b",
   "metadata": {
    "execution": {
     "iopub.execute_input": "2025-02-10T03:23:19.253666Z",
     "iopub.status.busy": "2025-02-10T03:23:19.253328Z",
     "iopub.status.idle": "2025-02-10T03:23:19.259499Z",
     "shell.execute_reply": "2025-02-10T03:23:19.258248Z"
    },
    "papermill": {
     "duration": 0.013628,
     "end_time": "2025-02-10T03:23:19.261121",
     "exception": false,
     "start_time": "2025-02-10T03:23:19.247493",
     "status": "completed"
    },
    "tags": []
   },
   "outputs": [
    {
     "name": "stdout",
     "output_type": "stream",
     "text": [
      "set_id            object\n",
      "name              object\n",
      "year               int64\n",
      "theme             object\n",
      "subtheme          object\n",
      "themeGroup        object\n",
      "category          object\n",
      "pieces             int64\n",
      "agerange_min       int64\n",
      "US_retailPrice     int64\n",
      "imageURL          object\n",
      "dtype: object\n"
     ]
    }
   ],
   "source": [
    " # summarize datatypes\n",
    "\n",
    "print(df.dtypes)"
   ]
  },
  {
   "cell_type": "code",
   "execution_count": 14,
   "id": "c8273f88",
   "metadata": {
    "execution": {
     "iopub.execute_input": "2025-02-10T03:23:19.272384Z",
     "iopub.status.busy": "2025-02-10T03:23:19.271946Z",
     "iopub.status.idle": "2025-02-10T03:23:19.290803Z",
     "shell.execute_reply": "2025-02-10T03:23:19.289367Z"
    },
    "papermill": {
     "duration": 0.026454,
     "end_time": "2025-02-10T03:23:19.292591",
     "exception": false,
     "start_time": "2025-02-10T03:23:19.266137",
     "status": "completed"
    },
    "tags": []
   },
   "outputs": [
    {
     "name": "stdout",
     "output_type": "stream",
     "text": [
      "<class 'pandas.core.frame.DataFrame'>\n",
      "RangeIndex: 18457 entries, 0 to 18456\n",
      "Data columns (total 11 columns):\n",
      " #   Column          Non-Null Count  Dtype \n",
      "---  ------          --------------  ----- \n",
      " 0   set_id          18457 non-null  object\n",
      " 1   name            18457 non-null  object\n",
      " 2   year            18457 non-null  int64 \n",
      " 3   theme           18457 non-null  object\n",
      " 4   subtheme        18457 non-null  object\n",
      " 5   themeGroup      18457 non-null  object\n",
      " 6   category        18457 non-null  object\n",
      " 7   pieces          18457 non-null  int64 \n",
      " 8   agerange_min    18457 non-null  int64 \n",
      " 9   US_retailPrice  18457 non-null  int64 \n",
      " 10  imageURL        18457 non-null  object\n",
      "dtypes: int64(4), object(7)\n",
      "memory usage: 1.5+ MB\n"
     ]
    }
   ],
   "source": [
    "#summarize all of data\n",
    "\n",
    "df.info()"
   ]
  },
  {
   "cell_type": "code",
   "execution_count": 15,
   "id": "fde3ec0b",
   "metadata": {
    "execution": {
     "iopub.execute_input": "2025-02-10T03:23:19.303605Z",
     "iopub.status.busy": "2025-02-10T03:23:19.303268Z",
     "iopub.status.idle": "2025-02-10T03:23:19.312026Z",
     "shell.execute_reply": "2025-02-10T03:23:19.310775Z"
    },
    "papermill": {
     "duration": 0.01614,
     "end_time": "2025-02-10T03:23:19.313731",
     "exception": false,
     "start_time": "2025-02-10T03:23:19.297591",
     "status": "completed"
    },
    "tags": []
   },
   "outputs": [
    {
     "name": "stdout",
     "output_type": "stream",
     "text": [
      "  set_id                     name  year      theme     subtheme   themeGroup  \\\n",
      "0    1-8          Small house set  1970  Minitalia           na           na   \n",
      "1    2-8         Medium house set  1970  Minitalia           na           na   \n",
      "2    3-6         Medium house set  1970  Minitalia           na           na   \n",
      "3    4-4          Large house set  1970  Minitalia           na           na   \n",
      "4    4-6  Mini House and Vehicles  1970  Samsonite  Model Maker  Model Maker   \n",
      "\n",
      "  category  pieces  agerange_min  US_retailPrice  \\\n",
      "0   Normal      67             0               0   \n",
      "1   Normal     109             0               0   \n",
      "2   Normal     158             0               0   \n",
      "3   Normal     233             0               0   \n",
      "4   Normal       0             0               0   \n",
      "\n",
      "                                          imageURL  \n",
      "0  https://images.brickset.com/sets/images/1-8.jpg  \n",
      "1  https://images.brickset.com/sets/images/2-8.jpg  \n",
      "2  https://images.brickset.com/sets/images/3-6.jpg  \n",
      "3  https://images.brickset.com/sets/images/4-4.jpg  \n",
      "4                                               na  \n"
     ]
    }
   ],
   "source": [
    "#print first few rows\n",
    "\n",
    "print(df.head())"
   ]
  },
  {
   "cell_type": "code",
   "execution_count": 16,
   "id": "af46beee",
   "metadata": {
    "execution": {
     "iopub.execute_input": "2025-02-10T03:23:19.326667Z",
     "iopub.status.busy": "2025-02-10T03:23:19.326334Z",
     "iopub.status.idle": "2025-02-10T03:23:19.427333Z",
     "shell.execute_reply": "2025-02-10T03:23:19.426136Z"
    },
    "papermill": {
     "duration": 0.109007,
     "end_time": "2025-02-10T03:23:19.429310",
     "exception": false,
     "start_time": "2025-02-10T03:23:19.320303",
     "status": "completed"
    },
    "tags": []
   },
   "outputs": [],
   "source": [
    "#Save this clean dataframe to CSV file\n",
    "\n",
    "df.to_csv(\"lego_cleaned.csv\", index=False)"
   ]
  },
  {
   "cell_type": "code",
   "execution_count": 17,
   "id": "4745a8a0",
   "metadata": {
    "execution": {
     "iopub.execute_input": "2025-02-10T03:23:19.440754Z",
     "iopub.status.busy": "2025-02-10T03:23:19.440361Z",
     "iopub.status.idle": "2025-02-10T03:23:19.445692Z",
     "shell.execute_reply": "2025-02-10T03:23:19.444582Z"
    },
    "papermill": {
     "duration": 0.012917,
     "end_time": "2025-02-10T03:23:19.447295",
     "exception": false,
     "start_time": "2025-02-10T03:23:19.434378",
     "status": "completed"
    },
    "tags": []
   },
   "outputs": [
    {
     "name": "stdout",
     "output_type": "stream",
     "text": [
      "/kaggle/working\n"
     ]
    }
   ],
   "source": [
    "#check the working directory in kaggle\n",
    "import os\n",
    "print(os.getcwd())"
   ]
  },
  {
   "cell_type": "code",
   "execution_count": 18,
   "id": "bc3a6fc1",
   "metadata": {
    "execution": {
     "iopub.execute_input": "2025-02-10T03:23:19.458629Z",
     "iopub.status.busy": "2025-02-10T03:23:19.458275Z",
     "iopub.status.idle": "2025-02-10T03:23:19.464417Z",
     "shell.execute_reply": "2025-02-10T03:23:19.463342Z"
    },
    "papermill": {
     "duration": 0.013735,
     "end_time": "2025-02-10T03:23:19.466138",
     "exception": false,
     "start_time": "2025-02-10T03:23:19.452403",
     "status": "completed"
    },
    "tags": []
   },
   "outputs": [
    {
     "data": {
      "text/plain": [
       "['__notebook__.ipynb', 'lego_cleaned.csv']"
      ]
     },
     "execution_count": 18,
     "metadata": {},
     "output_type": "execute_result"
    }
   ],
   "source": [
    "# make sure it is save correctly (list files)\n",
    "\n",
    "os.listdir()"
   ]
  },
  {
   "cell_type": "code",
   "execution_count": 19,
   "id": "8cea1152",
   "metadata": {
    "execution": {
     "iopub.execute_input": "2025-02-10T03:23:19.477810Z",
     "iopub.status.busy": "2025-02-10T03:23:19.477437Z",
     "iopub.status.idle": "2025-02-10T03:23:19.572984Z",
     "shell.execute_reply": "2025-02-10T03:23:19.571561Z"
    },
    "papermill": {
     "duration": 0.103546,
     "end_time": "2025-02-10T03:23:19.575004",
     "exception": false,
     "start_time": "2025-02-10T03:23:19.471458",
     "status": "completed"
    },
    "tags": []
   },
   "outputs": [],
   "source": [
    "# Save the cleaned DataFrame to a CSV file\n",
    "\n",
    "df.to_csv(\"lego_cleaned.csv\", index=False)"
   ]
  }
 ],
 "metadata": {
  "kaggle": {
   "accelerator": "none",
   "dataSources": [
    {
     "datasetId": 6544400,
     "sourceId": 10575578,
     "sourceType": "datasetVersion"
    }
   ],
   "dockerImageVersionId": 30839,
   "isGpuEnabled": false,
   "isInternetEnabled": true,
   "language": "python",
   "sourceType": "notebook"
  },
  "kernelspec": {
   "display_name": "Python 3",
   "language": "python",
   "name": "python3"
  },
  "language_info": {
   "codemirror_mode": {
    "name": "ipython",
    "version": 3
   },
   "file_extension": ".py",
   "mimetype": "text/x-python",
   "name": "python",
   "nbconvert_exporter": "python",
   "pygments_lexer": "ipython3",
   "version": "3.10.12"
  },
  "papermill": {
   "default_parameters": {},
   "duration": 5.478872,
   "end_time": "2025-02-10T03:23:20.201143",
   "environment_variables": {},
   "exception": null,
   "input_path": "__notebook__.ipynb",
   "output_path": "__notebook__.ipynb",
   "parameters": {},
   "start_time": "2025-02-10T03:23:14.722271",
   "version": "2.6.0"
  }
 },
 "nbformat": 4,
 "nbformat_minor": 5
}
